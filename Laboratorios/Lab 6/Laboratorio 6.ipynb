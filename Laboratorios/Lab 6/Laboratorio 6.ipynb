{
 "cells": [
  {
   "cell_type": "code",
   "execution_count": null,
   "metadata": {},
   "outputs": [],
   "source": []
  },
  {
   "cell_type": "markdown",
   "metadata": {},
   "source": [
    "**ESCUELA DE INGENIERÍA MECATRÓNICA**\n",
    "\n",
    "## `PROCESAMIENTO DIGITAL DE SEÑALES E IMÁGENES`\n",
    "\n",
    "### `Integrantes:`\n",
    "\n",
    "    * Baltazar Julca Cristhian\n",
    "    * Garay Alcantara Alex\n",
    "    * Gonzales Bañes Ricardo Danfer\n",
    "\n",
    "```\n",
    "Práctica 7A: Filtrado en el espacio\n",
    "```"
   ]
  },
  {
   "cell_type": "markdown",
   "metadata": {},
   "source": [
    "### 1. Ejercicio 1.\n",
    "\n",
    "Implemente el siguiente algoritmo en un entorno local de OpenCV.\n"
   ]
  },
  {
   "cell_type": "code",
   "execution_count": 1,
   "metadata": {},
   "outputs": [],
   "source": [
    "import numpy as np\n",
    "import matplotlib.pyplot as plt\n",
    "import cv2"
   ]
  },
  {
   "cell_type": "code",
   "execution_count": null,
   "metadata": {},
   "outputs": [],
   "source": [
    "slider_max = 100\n",
    "title_window = 'Brillo'\n",
    "\n",
    "def on_trackbar(val):\n",
    "    dst = src1 + val/255\n",
    "    cv2.imshow(title_window, dst)\n",
    "\n",
    "src1 = cv2.imread(\"./Imagenes/barbara.jpg\")/255\n",
    "\n",
    "cv2.namedWindow(title_window)\n",
    "trackbar_name = f\"Brilo {slider_max}\"\n",
    "cv2.createTrackbar(trackbar_name, title_window, 0, slider_max, on_trackbar)\n",
    "on_trackbar(0)\n",
    "\n",
    "while True:\n",
    "    key = cv2.waitKey(1)\n",
    "    if key != -1:\n",
    "        break\n",
    "cv2.destroyAllWindows()"
   ]
  },
  {
   "cell_type": "markdown",
   "metadata": {},
   "source": [
    "### 2. Ejercicio 2.\n",
    "Implemente un algoritmo que le permita tener un slider para controlar el nivel de suavizado de una imagen. El slider controlara el tamaño del filtro espacial que se aplicará. Y debe poderse seleccionar si se desea un filtro promedio."
   ]
  },
  {
   "cell_type": "code",
   "execution_count": 1,
   "metadata": {},
   "outputs": [],
   "source": [
    "import cv2\n",
    "import numpy as np\n",
    "\n",
    "slider_max = 100\n",
    "title_window = 'Suavizado'\n",
    "\n",
    "# Crear un diccionario para almacenar el estado de las variables\n",
    "state = {'use_average_filter': True}\n",
    "\n",
    "def on_trackbar(val):\n",
    "    kernel_size = val // 2 * 2 + 1\n",
    "    if state['use_average_filter']:\n",
    "        kernel = np.ones((kernel_size, kernel_size), np.float32) / (kernel_size * kernel_size)\n",
    "    else:\n",
    "        kernel = cv2.getGaussianKernel(kernel_size, 0)\n",
    "        kernel = kernel * kernel.T\n",
    "    dst = cv2.filter2D(src1, -1, kernel)\n",
    "    cv2.imshow(title_window, dst)\n",
    "\n",
    "src1 = cv2.imread(\"./Imagenes/barbara.jpg\")/255\n",
    "\n",
    "cv2.namedWindow(title_window)\n",
    "trackbar_name = f\"Tamaño del filtro ({slider_max} max)\"\n",
    "cv2.createTrackbar(trackbar_name, title_window, 0, slider_max, on_trackbar)\n",
    "\n",
    "switch_name = \"Filtro promedio\"\n",
    "\n",
    "# Utilizar una función auxiliar para manejar el cambio en el estado\n",
    "def on_switch_change(x):\n",
    "    state['use_average_filter'] = bool(x)\n",
    "    on_trackbar(cv2.getTrackbarPos(trackbar_name, title_window))\n",
    "\n",
    "cv2.createTrackbar(switch_name, title_window, 0, 1, on_switch_change)\n",
    "\n",
    "on_trackbar(0)\n",
    "\n",
    "while True:\n",
    "    key = cv2.waitKey(1)\n",
    "    if key != -1:\n",
    "        break\n",
    "cv2.destroyAllWindows()\n"
   ]
  },
  {
   "cell_type": "markdown",
   "metadata": {},
   "source": [
    "### 3. Ejercicio 3.\n",
    "Implemente un algoritmo que le permita modificar la ganancia de un filtro de alto\n",
    "aumento. Si el slider es 0 debe verse el laplaciano, si es 1, la imagen debe quedar\n",
    "enfatizada. Si es mayor que 1 adicionalmente al enfatizado, la imagen debe tener\n",
    "mas brillo."
   ]
  },
  {
   "cell_type": "code",
   "execution_count": 2,
   "metadata": {},
   "outputs": [],
   "source": [
    "import cv2\n",
    "import numpy as np\n",
    "\n",
    "slider_max = 100\n",
    "title_window = 'Ganancia'\n",
    "\n",
    "def on_trackbar(val):\n",
    "    alpha = val / 100\n",
    "    beta = 0\n",
    "    if alpha == 0:\n",
    "        dst = cv2.Laplacian(src1, -1, ksize=3)\n",
    "    else:\n",
    "        dst = cv2.convertScaleAbs(cv2.addWeighted(src1, alpha, src1, beta, 0))\n",
    "        if alpha > 1:\n",
    "            dst = cv2.convertScaleAbs(cv2.addWeighted(dst, 1, np.zeros_like(dst), 0, beta))\n",
    "\n",
    "    cv2.imshow(title_window, dst)\n",
    "\n",
    "src1 = cv2.imread(\"./Imagenes/barbara.jpg\")\n",
    "\n",
    "cv2.namedWindow(title_window)\n",
    "trackbar_name = f\"Ganancia ({slider_max} max)\"\n",
    "cv2.createTrackbar(trackbar_name, title_window, 0, slider_max, on_trackbar)\n",
    "\n",
    "on_trackbar(0)\n",
    "\n",
    "while True:\n",
    "    key = cv2.waitKey(1)\n",
    "    if key != -1:\n",
    "        break\n",
    "cv2.destroyAllWindows()\n"
   ]
  }
 ],
 "metadata": {
  "kernelspec": {
   "display_name": "Python 3",
   "language": "python",
   "name": "python3"
  },
  "language_info": {
   "codemirror_mode": {
    "name": "ipython",
    "version": 3
   },
   "file_extension": ".py",
   "mimetype": "text/x-python",
   "name": "python",
   "nbconvert_exporter": "python",
   "pygments_lexer": "ipython3",
   "version": "3.6.6"
  }
 },
 "nbformat": 4,
 "nbformat_minor": 2
}
